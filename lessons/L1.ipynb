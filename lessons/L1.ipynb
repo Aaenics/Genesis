{
 "cells": [
  {
   "cell_type": "markdown",
   "id": "9d1b0d66-6891-4b17-abbd-dbcbab92adde",
   "metadata": {},
   "source": [
    "## Import pandas"
   ]
  },
  {
   "cell_type": "code",
   "execution_count": 2,
   "id": "95f026b2-8158-4bbb-987a-5e9348c76758",
   "metadata": {},
   "outputs": [],
   "source": [
    "import pandas as pd"
   ]
  },
  {
   "cell_type": "markdown",
   "id": "b57b959a-bf60-40d6-bddb-99b6596810f6",
   "metadata": {},
   "source": [
    "## Pandas Series"
   ]
  },
  {
   "cell_type": "code",
   "execution_count": 14,
   "id": "fa4ad6d0-8516-4d43-a28f-90b807497249",
   "metadata": {},
   "outputs": [
    {
     "name": "stdout",
     "output_type": "stream",
     "text": [
      "Content of my_series\n",
      "0    90\n",
      "1    82\n",
      "2    88\n",
      "3    94\n",
      "4    78\n",
      "dtype: int64\n",
      "\n",
      "\n",
      "Type of data: <class 'pandas.core.series.Series'>\n"
     ]
    }
   ],
   "source": [
    "# Import the pandas library to use its functionalities\n",
    "\n",
    "# 'average_score_in_class' is a list (or another iterable) containing average scores. Replace it with actual data.\n",
    "average_score_in_class = [90, 82, 88, 94, 78]  # Example data\n",
    "\n",
    "# Creating a Series from the 'average_score_in_class' data\n",
    "my_series = pd.Series(average_score_in_class)\n",
    "\n",
    "# Printing the content of the created Series\n",
    "print(\"Content of my_series\")\n",
    "print(my_series)\n",
    "print(\"\\n\")  # Prints a newline for better readability\n",
    "\n",
    "# Printing the type of the created variable 'my_series' to show it's a pandas Series\n",
    "print(f\"Type of data: {type(my_series)}\")\n",
    "\n",
    "# Explanation:\n",
    "# - A pandas Series is a one-dimensional array-like object that can hold many data types.\n",
    "# - Here, 'my_series' is created with numerical data representing average scores.\n",
    "# - The 'print' statements display the contents of 'my_series' and confirm its data type.\n"
   ]
  },
  {
   "cell_type": "markdown",
   "id": "4e521ebf-4e2d-470b-9e3c-2233e62f4b07",
   "metadata": {},
   "source": [
    "## Pandas DataFrame"
   ]
  },
  {
   "cell_type": "code",
   "execution_count": 15,
   "id": "82582bd9-561d-48ac-87cd-9ca83e0abffa",
   "metadata": {},
   "outputs": [
    {
     "name": "stdout",
     "output_type": "stream",
     "text": [
      "Content of my_dataframe\n",
      "   scores   names\n",
      "0      40  kelvin\n",
      "1      50    andy\n",
      "2      20    josh\n",
      "3      99   frank\n",
      "4     100   aaron\n",
      "\n",
      "\n",
      "Type of data: <class 'pandas.core.frame.DataFrame'>\n"
     ]
    }
   ],
   "source": [
    "# Import the pandas library to use its functionalities\n",
    "import pandas as pd\n",
    "\n",
    "# Define a dictionary with two keys: 'scores' and 'names'. Each key has a list of values.\n",
    "# 'scores' contains numerical scores, and 'names' contains strings of names.\n",
    "my_data = {\"scores\": [40, 50, 20, 99, 100], \"names\": [\"kelvin\", \"andy\", \"josh\", \"frank\", \"aaron\"]}\n",
    "\n",
    "# Creating a DataFrame from the dictionary. This structures the data in a tabular format,\n",
    "# where 'scores' and 'names' become column headers, and their corresponding lists become the column data.\n",
    "my_dataframe = pd.DataFrame(my_data)\n",
    "\n",
    "# Printing the content of the created DataFrame to display its structure and data\n",
    "print(\"Content of my_dataframe\")\n",
    "print(my_dataframe)\n",
    "print(\"\\n\")  # Prints a newline for better readability\n",
    "\n",
    "# Printing the type of the created variable 'my_dataframe' to show it's a pandas DataFrame\n",
    "print(f\"Type of data: {type(my_dataframe)}\")\n",
    "\n",
    "# Explanation:\n",
    "# - A pandas DataFrame is a two-dimensional, size-mutable, and potentially heterogeneous tabular data structure with labeled axes (rows and columns).\n",
    "# - Here, 'my_dataframe' is created from a dictionary, where each key-value pair corresponds to a column in the DataFrame.\n",
    "# - The 'print' statements display the contents of 'my_dataframe' and confirm its data type, illustrating how to create and inspect a pandas DataFrame.\n"
   ]
  },
  {
   "cell_type": "markdown",
   "id": "7d1b5a6d-d2f8-4a81-b8e6-dd02eeb65582",
   "metadata": {},
   "source": [
    "## * Loading datafrom from csv"
   ]
  },
  {
   "cell_type": "markdown",
   "id": "5a646870-ea62-4aa3-aad0-9c20ac5358e2",
   "metadata": {},
   "source": [
    "To load data from a CSV file into a pandas DataFrame, use the read_csv function from pandas. This function reads a comma-separated values (CSV) file and converts it into a DataFrame, allowing you to work with the data in Python.\r\n",
    "\r\n",
    "Steps:\r\n",
    "Import pandas: First, import the pandas library.\r\n",
    "Use read_csv: Call the read_csv() function with the file path of your CSV file as the argument"
   ]
  },
  {
   "cell_type": "code",
   "execution_count": 7,
   "id": "aa660276-a1ec-4b43-89a3-a9fb45fd441e",
   "metadata": {},
   "outputs": [],
   "source": [
    "df = pd.read_csv(\"../datasets/Iris.csv\")"
   ]
  },
  {
   "cell_type": "markdown",
   "id": "de5db3c1-3dbe-4db0-a4cf-23f108ffe7ba",
   "metadata": {},
   "source": [
    "#### Data series of dataframe"
   ]
  },
  {
   "cell_type": "code",
   "execution_count": 8,
   "id": "2a94af40-52ce-4c53-b160-c55d24a18eb6",
   "metadata": {},
   "outputs": [
    {
     "name": "stdout",
     "output_type": "stream",
     "text": [
      "Content of data\n",
      "0      1.4\n",
      "1      1.4\n",
      "2      1.3\n",
      "3      1.5\n",
      "4      1.4\n",
      "      ... \n",
      "145    5.2\n",
      "146    5.0\n",
      "147    5.2\n",
      "148    5.4\n",
      "149    5.1\n",
      "Name: PetalLengthCm, Length: 150, dtype: float64\n",
      " \n",
      " Type of data: <class 'pandas.core.series.Series'>\n"
     ]
    }
   ],
   "source": [
    "# Data series\n",
    "my_series = df['PetalLengthCm']\n",
    "\n",
    "print(\"Content of data\")\n",
    "print(my_series)\n",
    "print(f\" \\n Type of data: {type(my_series)}\")"
   ]
  },
  {
   "cell_type": "markdown",
   "id": "cb194ef6-1dc0-4649-8cae-5e77696e8fe6",
   "metadata": {},
   "source": [
    "#### Dataframe from dataframe"
   ]
  },
  {
   "cell_type": "code",
   "execution_count": 9,
   "id": "2d755e43-0abf-4f7e-8dde-76011e009503",
   "metadata": {},
   "outputs": [
    {
     "name": "stdout",
     "output_type": "stream",
     "text": [
      "Content of data\n",
      "     PetalLengthCm  PetalLengthCm\n",
      "0              1.4            1.4\n",
      "1              1.4            1.4\n",
      "2              1.3            1.3\n",
      "3              1.5            1.5\n",
      "4              1.4            1.4\n",
      "..             ...            ...\n",
      "145            5.2            5.2\n",
      "146            5.0            5.0\n",
      "147            5.2            5.2\n",
      "148            5.4            5.4\n",
      "149            5.1            5.1\n",
      "\n",
      "[150 rows x 2 columns]\n",
      " \n",
      " Type of data: <class 'pandas.core.frame.DataFrame'>\n"
     ]
    }
   ],
   "source": [
    "# DataFrame\n",
    "my_dataframe = df[['PetalLengthCm','PetalLengthCm']]\n",
    "\n",
    "print(\"Content of data\")\n",
    "print(my_dataframe)\n",
    "print(f\" \\n Type of data: {type(my_dataframe)}\")"
   ]
  },
  {
   "cell_type": "markdown",
   "id": "ef741abe-5ca0-4f6f-9696-6e2612a801e4",
   "metadata": {},
   "source": [
    "### * Analysis on data\n",
    "#### 1. Getting head and tail of data"
   ]
  },
  {
   "cell_type": "markdown",
   "id": "091b8569-1fa1-41da-ae9b-e8e5b063d347",
   "metadata": {},
   "source": [
    "What it does: Shows the first few rows of a DataFrame (default is 5).\n",
    "How to use: Simply call `df.head()` or specify the number of rows `df.head(n)` where n is the number of rows you want to see.\n",
    "Example: `df.head()` displays the first 5 rows, and `df.head(10)` displays the first 10 rows."
   ]
  },
  {
   "cell_type": "code",
   "execution_count": 10,
   "id": "c5fbf859-a7b1-49d4-bc74-2517aec310c6",
   "metadata": {},
   "outputs": [
    {
     "data": {
      "text/html": [
       "<div>\n",
       "<style scoped>\n",
       "    .dataframe tbody tr th:only-of-type {\n",
       "        vertical-align: middle;\n",
       "    }\n",
       "\n",
       "    .dataframe tbody tr th {\n",
       "        vertical-align: top;\n",
       "    }\n",
       "\n",
       "    .dataframe thead th {\n",
       "        text-align: right;\n",
       "    }\n",
       "</style>\n",
       "<table border=\"1\" class=\"dataframe\">\n",
       "  <thead>\n",
       "    <tr style=\"text-align: right;\">\n",
       "      <th></th>\n",
       "      <th>Id</th>\n",
       "      <th>SepalLengthCm</th>\n",
       "      <th>SepalWidthCm</th>\n",
       "      <th>PetalLengthCm</th>\n",
       "      <th>PetalWidthCm</th>\n",
       "      <th>Species</th>\n",
       "    </tr>\n",
       "  </thead>\n",
       "  <tbody>\n",
       "    <tr>\n",
       "      <th>0</th>\n",
       "      <td>1</td>\n",
       "      <td>5.1</td>\n",
       "      <td>3.5</td>\n",
       "      <td>1.4</td>\n",
       "      <td>0.2</td>\n",
       "      <td>Iris-setosa</td>\n",
       "    </tr>\n",
       "    <tr>\n",
       "      <th>1</th>\n",
       "      <td>2</td>\n",
       "      <td>4.9</td>\n",
       "      <td>3.0</td>\n",
       "      <td>1.4</td>\n",
       "      <td>0.2</td>\n",
       "      <td>Iris-setosa</td>\n",
       "    </tr>\n",
       "    <tr>\n",
       "      <th>2</th>\n",
       "      <td>3</td>\n",
       "      <td>4.7</td>\n",
       "      <td>3.2</td>\n",
       "      <td>1.3</td>\n",
       "      <td>0.2</td>\n",
       "      <td>Iris-setosa</td>\n",
       "    </tr>\n",
       "    <tr>\n",
       "      <th>3</th>\n",
       "      <td>4</td>\n",
       "      <td>4.6</td>\n",
       "      <td>3.1</td>\n",
       "      <td>1.5</td>\n",
       "      <td>0.2</td>\n",
       "      <td>Iris-setosa</td>\n",
       "    </tr>\n",
       "    <tr>\n",
       "      <th>4</th>\n",
       "      <td>5</td>\n",
       "      <td>5.0</td>\n",
       "      <td>3.6</td>\n",
       "      <td>1.4</td>\n",
       "      <td>0.2</td>\n",
       "      <td>Iris-setosa</td>\n",
       "    </tr>\n",
       "  </tbody>\n",
       "</table>\n",
       "</div>"
      ],
      "text/plain": [
       "   Id  SepalLengthCm  SepalWidthCm  PetalLengthCm  PetalWidthCm      Species\n",
       "0   1            5.1           3.5            1.4           0.2  Iris-setosa\n",
       "1   2            4.9           3.0            1.4           0.2  Iris-setosa\n",
       "2   3            4.7           3.2            1.3           0.2  Iris-setosa\n",
       "3   4            4.6           3.1            1.5           0.2  Iris-setosa\n",
       "4   5            5.0           3.6            1.4           0.2  Iris-setosa"
      ]
     },
     "execution_count": 10,
     "metadata": {},
     "output_type": "execute_result"
    }
   ],
   "source": [
    "# Getting the first 5 row of dataset\n",
    "df.head()"
   ]
  },
  {
   "cell_type": "markdown",
   "id": "dd835b44-d963-4e7c-b671-5d112647450b",
   "metadata": {},
   "source": [
    "#### tail of data"
   ]
  },
  {
   "cell_type": "markdown",
   "id": "075f3f90-9b6c-4063-ab27-2ce808bb18bd",
   "metadata": {},
   "source": [
    "What it does: Shows the last few rows of a DataFrame (default is 5).\n",
    "How to use: Call `df.tail()` or specify the number of rows `df.tail(n)` to see the end of the DataFrame.\n",
    "Example: `df.tail()` displays the last 5 rows, and `df.tail(10)` displays the last 10 rows."
   ]
  },
  {
   "cell_type": "code",
   "execution_count": 11,
   "id": "b6355e8c-1ba0-4767-8735-6bcfe8ea08bb",
   "metadata": {},
   "outputs": [
    {
     "data": {
      "text/html": [
       "<div>\n",
       "<style scoped>\n",
       "    .dataframe tbody tr th:only-of-type {\n",
       "        vertical-align: middle;\n",
       "    }\n",
       "\n",
       "    .dataframe tbody tr th {\n",
       "        vertical-align: top;\n",
       "    }\n",
       "\n",
       "    .dataframe thead th {\n",
       "        text-align: right;\n",
       "    }\n",
       "</style>\n",
       "<table border=\"1\" class=\"dataframe\">\n",
       "  <thead>\n",
       "    <tr style=\"text-align: right;\">\n",
       "      <th></th>\n",
       "      <th>Id</th>\n",
       "      <th>SepalLengthCm</th>\n",
       "      <th>SepalWidthCm</th>\n",
       "      <th>PetalLengthCm</th>\n",
       "      <th>PetalWidthCm</th>\n",
       "      <th>Species</th>\n",
       "    </tr>\n",
       "  </thead>\n",
       "  <tbody>\n",
       "    <tr>\n",
       "      <th>145</th>\n",
       "      <td>146</td>\n",
       "      <td>6.7</td>\n",
       "      <td>3.0</td>\n",
       "      <td>5.2</td>\n",
       "      <td>2.3</td>\n",
       "      <td>Iris-virginica</td>\n",
       "    </tr>\n",
       "    <tr>\n",
       "      <th>146</th>\n",
       "      <td>147</td>\n",
       "      <td>6.3</td>\n",
       "      <td>2.5</td>\n",
       "      <td>5.0</td>\n",
       "      <td>1.9</td>\n",
       "      <td>Iris-virginica</td>\n",
       "    </tr>\n",
       "    <tr>\n",
       "      <th>147</th>\n",
       "      <td>148</td>\n",
       "      <td>6.5</td>\n",
       "      <td>3.0</td>\n",
       "      <td>5.2</td>\n",
       "      <td>2.0</td>\n",
       "      <td>Iris-virginica</td>\n",
       "    </tr>\n",
       "    <tr>\n",
       "      <th>148</th>\n",
       "      <td>149</td>\n",
       "      <td>6.2</td>\n",
       "      <td>3.4</td>\n",
       "      <td>5.4</td>\n",
       "      <td>2.3</td>\n",
       "      <td>Iris-virginica</td>\n",
       "    </tr>\n",
       "    <tr>\n",
       "      <th>149</th>\n",
       "      <td>150</td>\n",
       "      <td>5.9</td>\n",
       "      <td>3.0</td>\n",
       "      <td>5.1</td>\n",
       "      <td>1.8</td>\n",
       "      <td>Iris-virginica</td>\n",
       "    </tr>\n",
       "  </tbody>\n",
       "</table>\n",
       "</div>"
      ],
      "text/plain": [
       "      Id  SepalLengthCm  SepalWidthCm  PetalLengthCm  PetalWidthCm  \\\n",
       "145  146            6.7           3.0            5.2           2.3   \n",
       "146  147            6.3           2.5            5.0           1.9   \n",
       "147  148            6.5           3.0            5.2           2.0   \n",
       "148  149            6.2           3.4            5.4           2.3   \n",
       "149  150            5.9           3.0            5.1           1.8   \n",
       "\n",
       "            Species  \n",
       "145  Iris-virginica  \n",
       "146  Iris-virginica  \n",
       "147  Iris-virginica  \n",
       "148  Iris-virginica  \n",
       "149  Iris-virginica  "
      ]
     },
     "execution_count": 11,
     "metadata": {},
     "output_type": "execute_result"
    }
   ],
   "source": [
    "# Getting last 5 rows of dataset\n",
    "df.tail()"
   ]
  },
  {
   "cell_type": "markdown",
   "id": "fd8040df-7869-4397-a5cf-1bd8a4bf2c33",
   "metadata": {},
   "source": [
    "#### 2. Data Selection and Index \n",
    "#### iloc\n",
    "\n",
    "* What it does: Selects data based on row and column positions (integers).\r",
    "* \n",
    "How to use:` df.ilc[row_index, column_index]`.\n",
    "]\r\n",
    "Example: To select data from the first three rows and the first and third columns`: df.iloc[0:3, [0, 2`]]."
   ]
  },
  {
   "cell_type": "code",
   "execution_count": 12,
   "id": "57184dc5-3d43-4a8a-b825-5ff74f7c6827",
   "metadata": {},
   "outputs": [
    {
     "data": {
      "text/plain": [
       "Id                         2\n",
       "SepalLengthCm            4.9\n",
       "SepalWidthCm             3.0\n",
       "PetalLengthCm            1.4\n",
       "PetalWidthCm             0.2\n",
       "Species          Iris-setosa\n",
       "Name: 1, dtype: object"
      ]
     },
     "execution_count": 12,
     "metadata": {},
     "output_type": "execute_result"
    }
   ],
   "source": [
    "# df.iloc[row_positions, column_positions]\n",
    "df.iloc[1]"
   ]
  },
  {
   "cell_type": "markdown",
   "id": "cdd21ca2-aa37-4301-82c0-e0c05e9c419e",
   "metadata": {},
   "source": [
    "#### Slcing iloc\n",
    "* What it does: Selects data based on row and column possitions (integers)  \n",
    "* How to use: `df.iloc[row_index, column_index]`\n",
    "Example: To select data from the first three rows and the first and third columns:\n",
    "`df.iloc[0:3, [0, 2]]`."
   ]
  },
  {
   "cell_type": "code",
   "execution_count": 13,
   "id": "61fd1477-c44c-4958-bc07-873fcd175d8b",
   "metadata": {},
   "outputs": [
    {
     "data": {
      "text/html": [
       "<div>\n",
       "<style scoped>\n",
       "    .dataframe tbody tr th:only-of-type {\n",
       "        vertical-align: middle;\n",
       "    }\n",
       "\n",
       "    .dataframe tbody tr th {\n",
       "        vertical-align: top;\n",
       "    }\n",
       "\n",
       "    .dataframe thead th {\n",
       "        text-align: right;\n",
       "    }\n",
       "</style>\n",
       "<table border=\"1\" class=\"dataframe\">\n",
       "  <thead>\n",
       "    <tr style=\"text-align: right;\">\n",
       "      <th></th>\n",
       "      <th>Id</th>\n",
       "      <th>SepalLengthCm</th>\n",
       "      <th>SepalWidthCm</th>\n",
       "      <th>PetalLengthCm</th>\n",
       "      <th>PetalWidthCm</th>\n",
       "      <th>Species</th>\n",
       "    </tr>\n",
       "  </thead>\n",
       "  <tbody>\n",
       "    <tr>\n",
       "      <th>0</th>\n",
       "      <td>1</td>\n",
       "      <td>5.1</td>\n",
       "      <td>3.5</td>\n",
       "      <td>1.4</td>\n",
       "      <td>0.2</td>\n",
       "      <td>Iris-setosa</td>\n",
       "    </tr>\n",
       "    <tr>\n",
       "      <th>1</th>\n",
       "      <td>2</td>\n",
       "      <td>4.9</td>\n",
       "      <td>3.0</td>\n",
       "      <td>1.4</td>\n",
       "      <td>0.2</td>\n",
       "      <td>Iris-setosa</td>\n",
       "    </tr>\n",
       "    <tr>\n",
       "      <th>2</th>\n",
       "      <td>3</td>\n",
       "      <td>4.7</td>\n",
       "      <td>3.2</td>\n",
       "      <td>1.3</td>\n",
       "      <td>0.2</td>\n",
       "      <td>Iris-setosa</td>\n",
       "    </tr>\n",
       "    <tr>\n",
       "      <th>3</th>\n",
       "      <td>4</td>\n",
       "      <td>4.6</td>\n",
       "      <td>3.1</td>\n",
       "      <td>1.5</td>\n",
       "      <td>0.2</td>\n",
       "      <td>Iris-setosa</td>\n",
       "    </tr>\n",
       "    <tr>\n",
       "      <th>4</th>\n",
       "      <td>5</td>\n",
       "      <td>5.0</td>\n",
       "      <td>3.6</td>\n",
       "      <td>1.4</td>\n",
       "      <td>0.2</td>\n",
       "      <td>Iris-setosa</td>\n",
       "    </tr>\n",
       "    <tr>\n",
       "      <th>5</th>\n",
       "      <td>6</td>\n",
       "      <td>5.4</td>\n",
       "      <td>3.9</td>\n",
       "      <td>1.7</td>\n",
       "      <td>0.4</td>\n",
       "      <td>Iris-setosa</td>\n",
       "    </tr>\n",
       "    <tr>\n",
       "      <th>6</th>\n",
       "      <td>7</td>\n",
       "      <td>4.6</td>\n",
       "      <td>3.4</td>\n",
       "      <td>1.4</td>\n",
       "      <td>0.3</td>\n",
       "      <td>Iris-setosa</td>\n",
       "    </tr>\n",
       "    <tr>\n",
       "      <th>7</th>\n",
       "      <td>8</td>\n",
       "      <td>5.0</td>\n",
       "      <td>3.4</td>\n",
       "      <td>1.5</td>\n",
       "      <td>0.2</td>\n",
       "      <td>Iris-setosa</td>\n",
       "    </tr>\n",
       "    <tr>\n",
       "      <th>8</th>\n",
       "      <td>9</td>\n",
       "      <td>4.4</td>\n",
       "      <td>2.9</td>\n",
       "      <td>1.4</td>\n",
       "      <td>0.2</td>\n",
       "      <td>Iris-setosa</td>\n",
       "    </tr>\n",
       "    <tr>\n",
       "      <th>9</th>\n",
       "      <td>10</td>\n",
       "      <td>4.9</td>\n",
       "      <td>3.1</td>\n",
       "      <td>1.5</td>\n",
       "      <td>0.1</td>\n",
       "      <td>Iris-setosa</td>\n",
       "    </tr>\n",
       "  </tbody>\n",
       "</table>\n",
       "</div>"
      ],
      "text/plain": [
       "   Id  SepalLengthCm  SepalWidthCm  PetalLengthCm  PetalWidthCm      Species\n",
       "0   1            5.1           3.5            1.4           0.2  Iris-setosa\n",
       "1   2            4.9           3.0            1.4           0.2  Iris-setosa\n",
       "2   3            4.7           3.2            1.3           0.2  Iris-setosa\n",
       "3   4            4.6           3.1            1.5           0.2  Iris-setosa\n",
       "4   5            5.0           3.6            1.4           0.2  Iris-setosa\n",
       "5   6            5.4           3.9            1.7           0.4  Iris-setosa\n",
       "6   7            4.6           3.4            1.4           0.3  Iris-setosa\n",
       "7   8            5.0           3.4            1.5           0.2  Iris-setosa\n",
       "8   9            4.4           2.9            1.4           0.2  Iris-setosa\n",
       "9  10            4.9           3.1            1.5           0.1  Iris-setosa"
      ]
     },
     "execution_count": 13,
     "metadata": {},
     "output_type": "execute_result"
    }
   ],
   "source": [
    "# Slicing with iloc\n",
    "df.iloc[:10]"
   ]
  },
  {
   "cell_type": "markdown",
   "id": "fb5e7dd5-452a-47c3-84da-da5a339324c2",
   "metadata": {},
   "source": [
    "#### loc"
   ]
  },
  {
   "cell_type": "markdown",
   "id": "9ec55f98-dbcb-44e4-8028-ff033758bcdc",
   "metadata": {},
   "source": [
    "* What it does: Selects data based on row and column labels.\n",
    "* How to use: `df.loc[row_label, column_label]`\n",
    "* Example: To select data from rows labeled '1' to '3' and columns 'PetalLength' and 'Species' `df.loc[1:3, ['['PetalLength', 'Specices']`."
   ]
  },
  {
   "cell_type": "code",
   "execution_count": 27,
   "id": "598eccfc-c17e-4d25-b85e-3911bd947ede",
   "metadata": {},
   "outputs": [
    {
     "data": {
      "text/plain": [
       "Id                         1\n",
       "SepalLengthCm            5.1\n",
       "SepalWidthCm             3.5\n",
       "PetalLengthCm            1.4\n",
       "PetalWidthCm             0.2\n",
       "Species          Iris-setosa\n",
       "Name: 0, dtype: object"
      ]
     },
     "execution_count": 27,
     "metadata": {},
     "output_type": "execute_result"
    }
   ],
   "source": [
    "# df.loc[row_labels / row_index, column_labels]\n",
    "df.loc[0]"
   ]
  },
  {
   "cell_type": "markdown",
   "id": "0b6356ef-70c0-42ef-86f3-6ad69e2bee6e",
   "metadata": {},
   "source": [
    "#### Slicing with loc\n",
    "* For rows: `df.loc[start_label:end_label]` includes both start and end labels.\r",
    "* \n",
    "For columns:` df.loc[:, 'start_column':'end_column'`] also includes end column\r\n",
    "Example` : df.loc[1:3,Species'A'PetalLength'C `'] selects rows 1 to 3 and columnsSpecies'A' toPetalLength'C'."
   ]
  },
  {
   "cell_type": "code",
   "execution_count": 28,
   "id": "d6400136-d053-47df-892e-5de01c0ace3c",
   "metadata": {},
   "outputs": [
    {
     "data": {
      "text/html": [
       "<div>\n",
       "<style scoped>\n",
       "    .dataframe tbody tr th:only-of-type {\n",
       "        vertical-align: middle;\n",
       "    }\n",
       "\n",
       "    .dataframe tbody tr th {\n",
       "        vertical-align: top;\n",
       "    }\n",
       "\n",
       "    .dataframe thead th {\n",
       "        text-align: right;\n",
       "    }\n",
       "</style>\n",
       "<table border=\"1\" class=\"dataframe\">\n",
       "  <thead>\n",
       "    <tr style=\"text-align: right;\">\n",
       "      <th></th>\n",
       "      <th>Id</th>\n",
       "      <th>SepalLengthCm</th>\n",
       "      <th>SepalWidthCm</th>\n",
       "      <th>PetalLengthCm</th>\n",
       "      <th>PetalWidthCm</th>\n",
       "      <th>Species</th>\n",
       "    </tr>\n",
       "  </thead>\n",
       "  <tbody>\n",
       "    <tr>\n",
       "      <th>3</th>\n",
       "      <td>4</td>\n",
       "      <td>4.6</td>\n",
       "      <td>3.1</td>\n",
       "      <td>1.5</td>\n",
       "      <td>0.2</td>\n",
       "      <td>Iris-setosa</td>\n",
       "    </tr>\n",
       "    <tr>\n",
       "      <th>4</th>\n",
       "      <td>5</td>\n",
       "      <td>5.0</td>\n",
       "      <td>3.6</td>\n",
       "      <td>1.4</td>\n",
       "      <td>0.2</td>\n",
       "      <td>Iris-setosa</td>\n",
       "    </tr>\n",
       "    <tr>\n",
       "      <th>5</th>\n",
       "      <td>6</td>\n",
       "      <td>5.4</td>\n",
       "      <td>3.9</td>\n",
       "      <td>1.7</td>\n",
       "      <td>0.4</td>\n",
       "      <td>Iris-setosa</td>\n",
       "    </tr>\n",
       "    <tr>\n",
       "      <th>6</th>\n",
       "      <td>7</td>\n",
       "      <td>4.6</td>\n",
       "      <td>3.4</td>\n",
       "      <td>1.4</td>\n",
       "      <td>0.3</td>\n",
       "      <td>Iris-setosa</td>\n",
       "    </tr>\n",
       "    <tr>\n",
       "      <th>7</th>\n",
       "      <td>8</td>\n",
       "      <td>5.0</td>\n",
       "      <td>3.4</td>\n",
       "      <td>1.5</td>\n",
       "      <td>0.2</td>\n",
       "      <td>Iris-setosa</td>\n",
       "    </tr>\n",
       "    <tr>\n",
       "      <th>8</th>\n",
       "      <td>9</td>\n",
       "      <td>4.4</td>\n",
       "      <td>2.9</td>\n",
       "      <td>1.4</td>\n",
       "      <td>0.2</td>\n",
       "      <td>Iris-setosa</td>\n",
       "    </tr>\n",
       "    <tr>\n",
       "      <th>9</th>\n",
       "      <td>10</td>\n",
       "      <td>4.9</td>\n",
       "      <td>3.1</td>\n",
       "      <td>1.5</td>\n",
       "      <td>0.1</td>\n",
       "      <td>Iris-setosa</td>\n",
       "    </tr>\n",
       "    <tr>\n",
       "      <th>10</th>\n",
       "      <td>11</td>\n",
       "      <td>5.4</td>\n",
       "      <td>3.7</td>\n",
       "      <td>1.5</td>\n",
       "      <td>0.2</td>\n",
       "      <td>Iris-setosa</td>\n",
       "    </tr>\n",
       "  </tbody>\n",
       "</table>\n",
       "</div>"
      ],
      "text/plain": [
       "    Id  SepalLengthCm  SepalWidthCm  PetalLengthCm  PetalWidthCm      Species\n",
       "3    4            4.6           3.1            1.5           0.2  Iris-setosa\n",
       "4    5            5.0           3.6            1.4           0.2  Iris-setosa\n",
       "5    6            5.4           3.9            1.7           0.4  Iris-setosa\n",
       "6    7            4.6           3.4            1.4           0.3  Iris-setosa\n",
       "7    8            5.0           3.4            1.5           0.2  Iris-setosa\n",
       "8    9            4.4           2.9            1.4           0.2  Iris-setosa\n",
       "9   10            4.9           3.1            1.5           0.1  Iris-setosa\n",
       "10  11            5.4           3.7            1.5           0.2  Iris-setosa"
      ]
     },
     "execution_count": 28,
     "metadata": {},
     "output_type": "execute_result"
    }
   ],
   "source": [
    "#  Slicing with df.loc\n",
    "df.loc[3:10]"
   ]
  },
  {
   "cell_type": "code",
   "execution_count": null,
   "id": "dad2c897-92ff-47d3-86a8-a9846853dfc5",
   "metadata": {},
   "outputs": [],
   "source": []
  }
 ],
 "metadata": {
  "kernelspec": {
   "display_name": "Python 3 (ipykernel)",
   "language": "python",
   "name": "python3"
  },
  "language_info": {
   "codemirror_mode": {
    "name": "ipython",
    "version": 3
   },
   "file_extension": ".py",
   "mimetype": "text/x-python",
   "name": "python",
   "nbconvert_exporter": "python",
   "pygments_lexer": "ipython3",
   "version": "3.11.7"
  }
 },
 "nbformat": 4,
 "nbformat_minor": 5
}
